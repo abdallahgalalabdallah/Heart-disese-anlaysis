{
 "cells": [
  {
   "cell_type": "code",
   "execution_count": 31,
   "id": "7d20db77",
   "metadata": {},
   "outputs": [],
   "source": [
    "#import librraries \n",
    "import pandas as pd\n",
    "import matplotlib.pyplot as plt \n",
    "import seaborn as sns\n",
    "import numpy as np"
   ]
  },
  {
   "cell_type": "code",
   "execution_count": 32,
   "id": "2070fbc9",
   "metadata": {},
   "outputs": [],
   "source": [
    "#read csv file  \n",
    "df=pd.read_csv(r\"D:\\data science course\\1000ml project\\dataset1\\heart_2020_cleaned.csv\")"
   ]
  },
  {
   "cell_type": "code",
   "execution_count": 33,
   "id": "039daf70",
   "metadata": {},
   "outputs": [
    {
     "data": {
      "text/html": [
       "<div>\n",
       "<style scoped>\n",
       "    .dataframe tbody tr th:only-of-type {\n",
       "        vertical-align: middle;\n",
       "    }\n",
       "\n",
       "    .dataframe tbody tr th {\n",
       "        vertical-align: top;\n",
       "    }\n",
       "\n",
       "    .dataframe thead th {\n",
       "        text-align: right;\n",
       "    }\n",
       "</style>\n",
       "<table border=\"1\" class=\"dataframe\">\n",
       "  <thead>\n",
       "    <tr style=\"text-align: right;\">\n",
       "      <th></th>\n",
       "      <th>HeartDisease</th>\n",
       "      <th>BMI</th>\n",
       "      <th>Smoking</th>\n",
       "      <th>AlcoholDrinking</th>\n",
       "      <th>Stroke</th>\n",
       "      <th>PhysicalHealth</th>\n",
       "      <th>MentalHealth</th>\n",
       "      <th>DiffWalking</th>\n",
       "      <th>Sex</th>\n",
       "      <th>AgeCategory</th>\n",
       "      <th>Race</th>\n",
       "      <th>Diabetic</th>\n",
       "      <th>PhysicalActivity</th>\n",
       "      <th>GenHealth</th>\n",
       "      <th>SleepTime</th>\n",
       "      <th>Asthma</th>\n",
       "      <th>KidneyDisease</th>\n",
       "      <th>SkinCancer</th>\n",
       "    </tr>\n",
       "  </thead>\n",
       "  <tbody>\n",
       "    <tr>\n",
       "      <th>0</th>\n",
       "      <td>No</td>\n",
       "      <td>16.60</td>\n",
       "      <td>Yes</td>\n",
       "      <td>No</td>\n",
       "      <td>No</td>\n",
       "      <td>3.0</td>\n",
       "      <td>30.0</td>\n",
       "      <td>No</td>\n",
       "      <td>Female</td>\n",
       "      <td>55-59</td>\n",
       "      <td>White</td>\n",
       "      <td>Yes</td>\n",
       "      <td>Yes</td>\n",
       "      <td>Very good</td>\n",
       "      <td>5.0</td>\n",
       "      <td>Yes</td>\n",
       "      <td>No</td>\n",
       "      <td>Yes</td>\n",
       "    </tr>\n",
       "    <tr>\n",
       "      <th>1</th>\n",
       "      <td>No</td>\n",
       "      <td>20.34</td>\n",
       "      <td>No</td>\n",
       "      <td>No</td>\n",
       "      <td>Yes</td>\n",
       "      <td>0.0</td>\n",
       "      <td>0.0</td>\n",
       "      <td>No</td>\n",
       "      <td>Female</td>\n",
       "      <td>80 or older</td>\n",
       "      <td>White</td>\n",
       "      <td>No</td>\n",
       "      <td>Yes</td>\n",
       "      <td>Very good</td>\n",
       "      <td>7.0</td>\n",
       "      <td>No</td>\n",
       "      <td>No</td>\n",
       "      <td>No</td>\n",
       "    </tr>\n",
       "    <tr>\n",
       "      <th>2</th>\n",
       "      <td>No</td>\n",
       "      <td>26.58</td>\n",
       "      <td>Yes</td>\n",
       "      <td>No</td>\n",
       "      <td>No</td>\n",
       "      <td>20.0</td>\n",
       "      <td>30.0</td>\n",
       "      <td>No</td>\n",
       "      <td>Male</td>\n",
       "      <td>65-69</td>\n",
       "      <td>White</td>\n",
       "      <td>Yes</td>\n",
       "      <td>Yes</td>\n",
       "      <td>Fair</td>\n",
       "      <td>8.0</td>\n",
       "      <td>Yes</td>\n",
       "      <td>No</td>\n",
       "      <td>No</td>\n",
       "    </tr>\n",
       "    <tr>\n",
       "      <th>3</th>\n",
       "      <td>No</td>\n",
       "      <td>24.21</td>\n",
       "      <td>No</td>\n",
       "      <td>No</td>\n",
       "      <td>No</td>\n",
       "      <td>0.0</td>\n",
       "      <td>0.0</td>\n",
       "      <td>No</td>\n",
       "      <td>Female</td>\n",
       "      <td>75-79</td>\n",
       "      <td>White</td>\n",
       "      <td>No</td>\n",
       "      <td>No</td>\n",
       "      <td>Good</td>\n",
       "      <td>6.0</td>\n",
       "      <td>No</td>\n",
       "      <td>No</td>\n",
       "      <td>Yes</td>\n",
       "    </tr>\n",
       "    <tr>\n",
       "      <th>4</th>\n",
       "      <td>No</td>\n",
       "      <td>23.71</td>\n",
       "      <td>No</td>\n",
       "      <td>No</td>\n",
       "      <td>No</td>\n",
       "      <td>28.0</td>\n",
       "      <td>0.0</td>\n",
       "      <td>Yes</td>\n",
       "      <td>Female</td>\n",
       "      <td>40-44</td>\n",
       "      <td>White</td>\n",
       "      <td>No</td>\n",
       "      <td>Yes</td>\n",
       "      <td>Very good</td>\n",
       "      <td>8.0</td>\n",
       "      <td>No</td>\n",
       "      <td>No</td>\n",
       "      <td>No</td>\n",
       "    </tr>\n",
       "    <tr>\n",
       "      <th>...</th>\n",
       "      <td>...</td>\n",
       "      <td>...</td>\n",
       "      <td>...</td>\n",
       "      <td>...</td>\n",
       "      <td>...</td>\n",
       "      <td>...</td>\n",
       "      <td>...</td>\n",
       "      <td>...</td>\n",
       "      <td>...</td>\n",
       "      <td>...</td>\n",
       "      <td>...</td>\n",
       "      <td>...</td>\n",
       "      <td>...</td>\n",
       "      <td>...</td>\n",
       "      <td>...</td>\n",
       "      <td>...</td>\n",
       "      <td>...</td>\n",
       "      <td>...</td>\n",
       "    </tr>\n",
       "    <tr>\n",
       "      <th>319790</th>\n",
       "      <td>Yes</td>\n",
       "      <td>27.41</td>\n",
       "      <td>Yes</td>\n",
       "      <td>No</td>\n",
       "      <td>No</td>\n",
       "      <td>7.0</td>\n",
       "      <td>0.0</td>\n",
       "      <td>Yes</td>\n",
       "      <td>Male</td>\n",
       "      <td>60-64</td>\n",
       "      <td>Hispanic</td>\n",
       "      <td>Yes</td>\n",
       "      <td>No</td>\n",
       "      <td>Fair</td>\n",
       "      <td>6.0</td>\n",
       "      <td>Yes</td>\n",
       "      <td>No</td>\n",
       "      <td>No</td>\n",
       "    </tr>\n",
       "    <tr>\n",
       "      <th>319791</th>\n",
       "      <td>No</td>\n",
       "      <td>29.84</td>\n",
       "      <td>Yes</td>\n",
       "      <td>No</td>\n",
       "      <td>No</td>\n",
       "      <td>0.0</td>\n",
       "      <td>0.0</td>\n",
       "      <td>No</td>\n",
       "      <td>Male</td>\n",
       "      <td>35-39</td>\n",
       "      <td>Hispanic</td>\n",
       "      <td>No</td>\n",
       "      <td>Yes</td>\n",
       "      <td>Very good</td>\n",
       "      <td>5.0</td>\n",
       "      <td>Yes</td>\n",
       "      <td>No</td>\n",
       "      <td>No</td>\n",
       "    </tr>\n",
       "    <tr>\n",
       "      <th>319792</th>\n",
       "      <td>No</td>\n",
       "      <td>24.24</td>\n",
       "      <td>No</td>\n",
       "      <td>No</td>\n",
       "      <td>No</td>\n",
       "      <td>0.0</td>\n",
       "      <td>0.0</td>\n",
       "      <td>No</td>\n",
       "      <td>Female</td>\n",
       "      <td>45-49</td>\n",
       "      <td>Hispanic</td>\n",
       "      <td>No</td>\n",
       "      <td>Yes</td>\n",
       "      <td>Good</td>\n",
       "      <td>6.0</td>\n",
       "      <td>No</td>\n",
       "      <td>No</td>\n",
       "      <td>No</td>\n",
       "    </tr>\n",
       "    <tr>\n",
       "      <th>319793</th>\n",
       "      <td>No</td>\n",
       "      <td>32.81</td>\n",
       "      <td>No</td>\n",
       "      <td>No</td>\n",
       "      <td>No</td>\n",
       "      <td>0.0</td>\n",
       "      <td>0.0</td>\n",
       "      <td>No</td>\n",
       "      <td>Female</td>\n",
       "      <td>25-29</td>\n",
       "      <td>Hispanic</td>\n",
       "      <td>No</td>\n",
       "      <td>No</td>\n",
       "      <td>Good</td>\n",
       "      <td>12.0</td>\n",
       "      <td>No</td>\n",
       "      <td>No</td>\n",
       "      <td>No</td>\n",
       "    </tr>\n",
       "    <tr>\n",
       "      <th>319794</th>\n",
       "      <td>No</td>\n",
       "      <td>46.56</td>\n",
       "      <td>No</td>\n",
       "      <td>No</td>\n",
       "      <td>No</td>\n",
       "      <td>0.0</td>\n",
       "      <td>0.0</td>\n",
       "      <td>No</td>\n",
       "      <td>Female</td>\n",
       "      <td>80 or older</td>\n",
       "      <td>Hispanic</td>\n",
       "      <td>No</td>\n",
       "      <td>Yes</td>\n",
       "      <td>Good</td>\n",
       "      <td>8.0</td>\n",
       "      <td>No</td>\n",
       "      <td>No</td>\n",
       "      <td>No</td>\n",
       "    </tr>\n",
       "  </tbody>\n",
       "</table>\n",
       "<p>319795 rows × 18 columns</p>\n",
       "</div>"
      ],
      "text/plain": [
       "       HeartDisease    BMI Smoking AlcoholDrinking Stroke  PhysicalHealth  \\\n",
       "0                No  16.60     Yes              No     No             3.0   \n",
       "1                No  20.34      No              No    Yes             0.0   \n",
       "2                No  26.58     Yes              No     No            20.0   \n",
       "3                No  24.21      No              No     No             0.0   \n",
       "4                No  23.71      No              No     No            28.0   \n",
       "...             ...    ...     ...             ...    ...             ...   \n",
       "319790          Yes  27.41     Yes              No     No             7.0   \n",
       "319791           No  29.84     Yes              No     No             0.0   \n",
       "319792           No  24.24      No              No     No             0.0   \n",
       "319793           No  32.81      No              No     No             0.0   \n",
       "319794           No  46.56      No              No     No             0.0   \n",
       "\n",
       "        MentalHealth DiffWalking     Sex  AgeCategory      Race Diabetic  \\\n",
       "0               30.0          No  Female        55-59     White      Yes   \n",
       "1                0.0          No  Female  80 or older     White       No   \n",
       "2               30.0          No    Male        65-69     White      Yes   \n",
       "3                0.0          No  Female        75-79     White       No   \n",
       "4                0.0         Yes  Female        40-44     White       No   \n",
       "...              ...         ...     ...          ...       ...      ...   \n",
       "319790           0.0         Yes    Male        60-64  Hispanic      Yes   \n",
       "319791           0.0          No    Male        35-39  Hispanic       No   \n",
       "319792           0.0          No  Female        45-49  Hispanic       No   \n",
       "319793           0.0          No  Female        25-29  Hispanic       No   \n",
       "319794           0.0          No  Female  80 or older  Hispanic       No   \n",
       "\n",
       "       PhysicalActivity  GenHealth  SleepTime Asthma KidneyDisease SkinCancer  \n",
       "0                   Yes  Very good        5.0    Yes            No        Yes  \n",
       "1                   Yes  Very good        7.0     No            No         No  \n",
       "2                   Yes       Fair        8.0    Yes            No         No  \n",
       "3                    No       Good        6.0     No            No        Yes  \n",
       "4                   Yes  Very good        8.0     No            No         No  \n",
       "...                 ...        ...        ...    ...           ...        ...  \n",
       "319790               No       Fair        6.0    Yes            No         No  \n",
       "319791              Yes  Very good        5.0    Yes            No         No  \n",
       "319792              Yes       Good        6.0     No            No         No  \n",
       "319793               No       Good       12.0     No            No         No  \n",
       "319794              Yes       Good        8.0     No            No         No  \n",
       "\n",
       "[319795 rows x 18 columns]"
      ]
     },
     "execution_count": 33,
     "metadata": {},
     "output_type": "execute_result"
    }
   ],
   "source": [
    "df"
   ]
  },
  {
   "cell_type": "code",
   "execution_count": 34,
   "id": "64567a05",
   "metadata": {},
   "outputs": [
    {
     "name": "stdout",
     "output_type": "stream",
     "text": [
      "<class 'pandas.core.frame.DataFrame'>\n",
      "RangeIndex: 319795 entries, 0 to 319794\n",
      "Data columns (total 18 columns):\n",
      " #   Column            Non-Null Count   Dtype  \n",
      "---  ------            --------------   -----  \n",
      " 0   HeartDisease      319795 non-null  object \n",
      " 1   BMI               319795 non-null  float64\n",
      " 2   Smoking           319795 non-null  object \n",
      " 3   AlcoholDrinking   319795 non-null  object \n",
      " 4   Stroke            319795 non-null  object \n",
      " 5   PhysicalHealth    319795 non-null  float64\n",
      " 6   MentalHealth      319795 non-null  float64\n",
      " 7   DiffWalking       319795 non-null  object \n",
      " 8   Sex               319795 non-null  object \n",
      " 9   AgeCategory       319795 non-null  object \n",
      " 10  Race              319795 non-null  object \n",
      " 11  Diabetic          319795 non-null  object \n",
      " 12  PhysicalActivity  319795 non-null  object \n",
      " 13  GenHealth         319795 non-null  object \n",
      " 14  SleepTime         319795 non-null  float64\n",
      " 15  Asthma            319795 non-null  object \n",
      " 16  KidneyDisease     319795 non-null  object \n",
      " 17  SkinCancer        319795 non-null  object \n",
      "dtypes: float64(4), object(14)\n",
      "memory usage: 43.9+ MB\n"
     ]
    }
   ],
   "source": [
    "df.info()"
   ]
  },
  {
   "cell_type": "code",
   "execution_count": 35,
   "id": "b4e34215",
   "metadata": {},
   "outputs": [
    {
     "data": {
      "text/plain": [
       "HeartDisease        0\n",
       "BMI                 0\n",
       "Smoking             0\n",
       "AlcoholDrinking     0\n",
       "Stroke              0\n",
       "PhysicalHealth      0\n",
       "MentalHealth        0\n",
       "DiffWalking         0\n",
       "Sex                 0\n",
       "AgeCategory         0\n",
       "Race                0\n",
       "Diabetic            0\n",
       "PhysicalActivity    0\n",
       "GenHealth           0\n",
       "SleepTime           0\n",
       "Asthma              0\n",
       "KidneyDisease       0\n",
       "SkinCancer          0\n",
       "dtype: int64"
      ]
     },
     "execution_count": 35,
     "metadata": {},
     "output_type": "execute_result"
    }
   ],
   "source": [
    "df.isnull().sum()"
   ]
  },
  {
   "cell_type": "markdown",
   "id": "ceccdb58",
   "metadata": {},
   "source": [
    "### Data Preprocessing"
   ]
  },
  {
   "cell_type": "code",
   "execution_count": 36,
   "id": "7c49e819",
   "metadata": {},
   "outputs": [
    {
     "data": {
      "text/plain": [
       "18078"
      ]
     },
     "execution_count": 36,
     "metadata": {},
     "output_type": "execute_result"
    }
   ],
   "source": [
    "#check duplicated data \n",
    "df.duplicated().sum()"
   ]
  },
  {
   "cell_type": "code",
   "execution_count": 37,
   "id": "7ba76da6",
   "metadata": {},
   "outputs": [
    {
     "data": {
      "text/html": [
       "<div>\n",
       "<style scoped>\n",
       "    .dataframe tbody tr th:only-of-type {\n",
       "        vertical-align: middle;\n",
       "    }\n",
       "\n",
       "    .dataframe tbody tr th {\n",
       "        vertical-align: top;\n",
       "    }\n",
       "\n",
       "    .dataframe thead th {\n",
       "        text-align: right;\n",
       "    }\n",
       "</style>\n",
       "<table border=\"1\" class=\"dataframe\">\n",
       "  <thead>\n",
       "    <tr style=\"text-align: right;\">\n",
       "      <th></th>\n",
       "      <th>HeartDisease</th>\n",
       "      <th>BMI</th>\n",
       "      <th>Smoking</th>\n",
       "      <th>AlcoholDrinking</th>\n",
       "      <th>Stroke</th>\n",
       "      <th>PhysicalHealth</th>\n",
       "      <th>MentalHealth</th>\n",
       "      <th>DiffWalking</th>\n",
       "      <th>Sex</th>\n",
       "      <th>AgeCategory</th>\n",
       "      <th>Race</th>\n",
       "      <th>Diabetic</th>\n",
       "      <th>PhysicalActivity</th>\n",
       "      <th>GenHealth</th>\n",
       "      <th>SleepTime</th>\n",
       "      <th>Asthma</th>\n",
       "      <th>KidneyDisease</th>\n",
       "      <th>SkinCancer</th>\n",
       "    </tr>\n",
       "  </thead>\n",
       "  <tbody>\n",
       "    <tr>\n",
       "      <th>2182</th>\n",
       "      <td>No</td>\n",
       "      <td>19.85</td>\n",
       "      <td>No</td>\n",
       "      <td>No</td>\n",
       "      <td>No</td>\n",
       "      <td>0.0</td>\n",
       "      <td>0.0</td>\n",
       "      <td>No</td>\n",
       "      <td>Female</td>\n",
       "      <td>80 or older</td>\n",
       "      <td>White</td>\n",
       "      <td>No</td>\n",
       "      <td>Yes</td>\n",
       "      <td>Excellent</td>\n",
       "      <td>7.0</td>\n",
       "      <td>No</td>\n",
       "      <td>No</td>\n",
       "      <td>No</td>\n",
       "    </tr>\n",
       "    <tr>\n",
       "      <th>3182</th>\n",
       "      <td>No</td>\n",
       "      <td>28.19</td>\n",
       "      <td>No</td>\n",
       "      <td>No</td>\n",
       "      <td>No</td>\n",
       "      <td>0.0</td>\n",
       "      <td>0.0</td>\n",
       "      <td>No</td>\n",
       "      <td>Female</td>\n",
       "      <td>50-54</td>\n",
       "      <td>White</td>\n",
       "      <td>No</td>\n",
       "      <td>Yes</td>\n",
       "      <td>Excellent</td>\n",
       "      <td>7.0</td>\n",
       "      <td>No</td>\n",
       "      <td>No</td>\n",
       "      <td>No</td>\n",
       "    </tr>\n",
       "    <tr>\n",
       "      <th>3397</th>\n",
       "      <td>No</td>\n",
       "      <td>26.54</td>\n",
       "      <td>No</td>\n",
       "      <td>No</td>\n",
       "      <td>No</td>\n",
       "      <td>0.0</td>\n",
       "      <td>0.0</td>\n",
       "      <td>No</td>\n",
       "      <td>Male</td>\n",
       "      <td>45-49</td>\n",
       "      <td>White</td>\n",
       "      <td>No</td>\n",
       "      <td>Yes</td>\n",
       "      <td>Excellent</td>\n",
       "      <td>6.0</td>\n",
       "      <td>No</td>\n",
       "      <td>No</td>\n",
       "      <td>No</td>\n",
       "    </tr>\n",
       "    <tr>\n",
       "      <th>3650</th>\n",
       "      <td>No</td>\n",
       "      <td>32.89</td>\n",
       "      <td>Yes</td>\n",
       "      <td>No</td>\n",
       "      <td>No</td>\n",
       "      <td>2.0</td>\n",
       "      <td>1.0</td>\n",
       "      <td>No</td>\n",
       "      <td>Female</td>\n",
       "      <td>50-54</td>\n",
       "      <td>White</td>\n",
       "      <td>No</td>\n",
       "      <td>Yes</td>\n",
       "      <td>Good</td>\n",
       "      <td>9.0</td>\n",
       "      <td>No</td>\n",
       "      <td>No</td>\n",
       "      <td>No</td>\n",
       "    </tr>\n",
       "    <tr>\n",
       "      <th>4061</th>\n",
       "      <td>No</td>\n",
       "      <td>25.84</td>\n",
       "      <td>No</td>\n",
       "      <td>No</td>\n",
       "      <td>No</td>\n",
       "      <td>0.0</td>\n",
       "      <td>0.0</td>\n",
       "      <td>No</td>\n",
       "      <td>Female</td>\n",
       "      <td>40-44</td>\n",
       "      <td>White</td>\n",
       "      <td>No</td>\n",
       "      <td>Yes</td>\n",
       "      <td>Excellent</td>\n",
       "      <td>8.0</td>\n",
       "      <td>No</td>\n",
       "      <td>No</td>\n",
       "      <td>No</td>\n",
       "    </tr>\n",
       "    <tr>\n",
       "      <th>...</th>\n",
       "      <td>...</td>\n",
       "      <td>...</td>\n",
       "      <td>...</td>\n",
       "      <td>...</td>\n",
       "      <td>...</td>\n",
       "      <td>...</td>\n",
       "      <td>...</td>\n",
       "      <td>...</td>\n",
       "      <td>...</td>\n",
       "      <td>...</td>\n",
       "      <td>...</td>\n",
       "      <td>...</td>\n",
       "      <td>...</td>\n",
       "      <td>...</td>\n",
       "      <td>...</td>\n",
       "      <td>...</td>\n",
       "      <td>...</td>\n",
       "      <td>...</td>\n",
       "    </tr>\n",
       "    <tr>\n",
       "      <th>319671</th>\n",
       "      <td>No</td>\n",
       "      <td>25.06</td>\n",
       "      <td>No</td>\n",
       "      <td>No</td>\n",
       "      <td>No</td>\n",
       "      <td>0.0</td>\n",
       "      <td>0.0</td>\n",
       "      <td>No</td>\n",
       "      <td>Male</td>\n",
       "      <td>40-44</td>\n",
       "      <td>Hispanic</td>\n",
       "      <td>No</td>\n",
       "      <td>Yes</td>\n",
       "      <td>Excellent</td>\n",
       "      <td>7.0</td>\n",
       "      <td>No</td>\n",
       "      <td>No</td>\n",
       "      <td>No</td>\n",
       "    </tr>\n",
       "    <tr>\n",
       "      <th>319689</th>\n",
       "      <td>No</td>\n",
       "      <td>27.44</td>\n",
       "      <td>No</td>\n",
       "      <td>No</td>\n",
       "      <td>No</td>\n",
       "      <td>0.0</td>\n",
       "      <td>0.0</td>\n",
       "      <td>No</td>\n",
       "      <td>Female</td>\n",
       "      <td>30-34</td>\n",
       "      <td>Hispanic</td>\n",
       "      <td>No</td>\n",
       "      <td>Yes</td>\n",
       "      <td>Very good</td>\n",
       "      <td>6.0</td>\n",
       "      <td>No</td>\n",
       "      <td>No</td>\n",
       "      <td>No</td>\n",
       "    </tr>\n",
       "    <tr>\n",
       "      <th>319726</th>\n",
       "      <td>No</td>\n",
       "      <td>30.41</td>\n",
       "      <td>No</td>\n",
       "      <td>No</td>\n",
       "      <td>No</td>\n",
       "      <td>0.0</td>\n",
       "      <td>0.0</td>\n",
       "      <td>No</td>\n",
       "      <td>Male</td>\n",
       "      <td>18-24</td>\n",
       "      <td>Hispanic</td>\n",
       "      <td>No</td>\n",
       "      <td>Yes</td>\n",
       "      <td>Excellent</td>\n",
       "      <td>7.0</td>\n",
       "      <td>No</td>\n",
       "      <td>No</td>\n",
       "      <td>No</td>\n",
       "    </tr>\n",
       "    <tr>\n",
       "      <th>319751</th>\n",
       "      <td>No</td>\n",
       "      <td>34.96</td>\n",
       "      <td>No</td>\n",
       "      <td>No</td>\n",
       "      <td>No</td>\n",
       "      <td>0.0</td>\n",
       "      <td>0.0</td>\n",
       "      <td>No</td>\n",
       "      <td>Male</td>\n",
       "      <td>18-24</td>\n",
       "      <td>Hispanic</td>\n",
       "      <td>No</td>\n",
       "      <td>Yes</td>\n",
       "      <td>Excellent</td>\n",
       "      <td>6.0</td>\n",
       "      <td>No</td>\n",
       "      <td>No</td>\n",
       "      <td>No</td>\n",
       "    </tr>\n",
       "    <tr>\n",
       "      <th>319776</th>\n",
       "      <td>No</td>\n",
       "      <td>27.98</td>\n",
       "      <td>No</td>\n",
       "      <td>No</td>\n",
       "      <td>No</td>\n",
       "      <td>0.0</td>\n",
       "      <td>0.0</td>\n",
       "      <td>No</td>\n",
       "      <td>Female</td>\n",
       "      <td>50-54</td>\n",
       "      <td>Hispanic</td>\n",
       "      <td>No</td>\n",
       "      <td>No</td>\n",
       "      <td>Good</td>\n",
       "      <td>8.0</td>\n",
       "      <td>No</td>\n",
       "      <td>No</td>\n",
       "      <td>No</td>\n",
       "    </tr>\n",
       "  </tbody>\n",
       "</table>\n",
       "<p>18078 rows × 18 columns</p>\n",
       "</div>"
      ],
      "text/plain": [
       "       HeartDisease    BMI Smoking AlcoholDrinking Stroke  PhysicalHealth  \\\n",
       "2182             No  19.85      No              No     No             0.0   \n",
       "3182             No  28.19      No              No     No             0.0   \n",
       "3397             No  26.54      No              No     No             0.0   \n",
       "3650             No  32.89     Yes              No     No             2.0   \n",
       "4061             No  25.84      No              No     No             0.0   \n",
       "...             ...    ...     ...             ...    ...             ...   \n",
       "319671           No  25.06      No              No     No             0.0   \n",
       "319689           No  27.44      No              No     No             0.0   \n",
       "319726           No  30.41      No              No     No             0.0   \n",
       "319751           No  34.96      No              No     No             0.0   \n",
       "319776           No  27.98      No              No     No             0.0   \n",
       "\n",
       "        MentalHealth DiffWalking     Sex  AgeCategory      Race Diabetic  \\\n",
       "2182             0.0          No  Female  80 or older     White       No   \n",
       "3182             0.0          No  Female        50-54     White       No   \n",
       "3397             0.0          No    Male        45-49     White       No   \n",
       "3650             1.0          No  Female        50-54     White       No   \n",
       "4061             0.0          No  Female        40-44     White       No   \n",
       "...              ...         ...     ...          ...       ...      ...   \n",
       "319671           0.0          No    Male        40-44  Hispanic       No   \n",
       "319689           0.0          No  Female        30-34  Hispanic       No   \n",
       "319726           0.0          No    Male        18-24  Hispanic       No   \n",
       "319751           0.0          No    Male        18-24  Hispanic       No   \n",
       "319776           0.0          No  Female        50-54  Hispanic       No   \n",
       "\n",
       "       PhysicalActivity  GenHealth  SleepTime Asthma KidneyDisease SkinCancer  \n",
       "2182                Yes  Excellent        7.0     No            No         No  \n",
       "3182                Yes  Excellent        7.0     No            No         No  \n",
       "3397                Yes  Excellent        6.0     No            No         No  \n",
       "3650                Yes       Good        9.0     No            No         No  \n",
       "4061                Yes  Excellent        8.0     No            No         No  \n",
       "...                 ...        ...        ...    ...           ...        ...  \n",
       "319671              Yes  Excellent        7.0     No            No         No  \n",
       "319689              Yes  Very good        6.0     No            No         No  \n",
       "319726              Yes  Excellent        7.0     No            No         No  \n",
       "319751              Yes  Excellent        6.0     No            No         No  \n",
       "319776               No       Good        8.0     No            No         No  \n",
       "\n",
       "[18078 rows x 18 columns]"
      ]
     },
     "execution_count": 37,
     "metadata": {},
     "output_type": "execute_result"
    }
   ],
   "source": [
    "df[df.duplicated()]"
   ]
  },
  {
   "cell_type": "code",
   "execution_count": 38,
   "id": "4931ab22",
   "metadata": {},
   "outputs": [],
   "source": [
    "#drop dublicated data\n",
    "df.drop_duplicates(inplace=True)"
   ]
  },
  {
   "cell_type": "code",
   "execution_count": 40,
   "id": "fa1fdc56",
   "metadata": {},
   "outputs": [
    {
     "data": {
      "text/plain": [
       "(301717, 18)"
      ]
     },
     "execution_count": 40,
     "metadata": {},
     "output_type": "execute_result"
    }
   ],
   "source": [
    "df.shape"
   ]
  },
  {
   "cell_type": "code",
   "execution_count": 42,
   "id": "8627a5e0",
   "metadata": {},
   "outputs": [
    {
     "name": "stdout",
     "output_type": "stream",
     "text": [
      "column HeartDisease\n",
      "***********************************\n",
      "No     274456\n",
      "Yes     27261\n",
      "Name: HeartDisease, dtype: int64 \n",
      "\n",
      "column BMI\n",
      "***********************************\n",
      "26.63    3244\n",
      "27.46    2425\n",
      "27.44    2385\n",
      "24.41    2173\n",
      "27.12    2062\n",
      "         ... \n",
      "63.85       1\n",
      "48.34       1\n",
      "30.97       1\n",
      "68.16       1\n",
      "46.56       1\n",
      "Name: BMI, Length: 3604, dtype: int64 \n",
      "\n",
      "column Smoking\n",
      "***********************************\n",
      "No     174312\n",
      "Yes    127405\n",
      "Name: Smoking, dtype: int64 \n",
      "\n",
      "column AlcoholDrinking\n",
      "***********************************\n",
      "No     280136\n",
      "Yes     21581\n",
      "Name: AlcoholDrinking, dtype: int64 \n",
      "\n",
      "column Stroke\n",
      "***********************************\n",
      "No     289653\n",
      "Yes     12064\n",
      "Name: Stroke, dtype: int64 \n",
      "\n",
      "column PhysicalHealth\n",
      "***********************************\n",
      "0.0     208611\n",
      "30.0     19503\n",
      "2.0      14846\n",
      "1.0      10459\n",
      "3.0       8608\n",
      "5.0       7590\n",
      "10.0      5450\n",
      "15.0      5012\n",
      "7.0       4629\n",
      "4.0       4467\n",
      "20.0      3216\n",
      "14.0      2892\n",
      "6.0       1270\n",
      "25.0      1164\n",
      "8.0        924\n",
      "21.0       626\n",
      "12.0       605\n",
      "28.0       446\n",
      "29.0       204\n",
      "9.0        180\n",
      "18.0       167\n",
      "16.0       135\n",
      "27.0       124\n",
      "17.0       110\n",
      "13.0        91\n",
      "22.0        89\n",
      "11.0        85\n",
      "24.0        67\n",
      "26.0        66\n",
      "23.0        46\n",
      "19.0        35\n",
      "Name: PhysicalHealth, dtype: int64 \n",
      "\n",
      "column MentalHealth\n",
      "***********************************\n",
      "0.0     187898\n",
      "30.0     17351\n",
      "2.0      16309\n",
      "5.0      14004\n",
      "10.0     10459\n",
      "3.0      10412\n",
      "15.0      9871\n",
      "1.0       9235\n",
      "7.0       5516\n",
      "20.0      5426\n",
      "4.0       5364\n",
      "14.0      2048\n",
      "25.0      1953\n",
      "6.0       1510\n",
      "8.0       1094\n",
      "12.0       757\n",
      "28.0       515\n",
      "21.0       352\n",
      "29.0       317\n",
      "18.0       211\n",
      "9.0        203\n",
      "16.0       152\n",
      "17.0       128\n",
      "27.0       126\n",
      "13.0       110\n",
      "22.0        98\n",
      "11.0        83\n",
      "23.0        68\n",
      "24.0        67\n",
      "26.0        59\n",
      "19.0        21\n",
      "Name: MentalHealth, dtype: int64 \n",
      "\n",
      "column DiffWalking\n",
      "***********************************\n",
      "No     257362\n",
      "Yes     44355\n",
      "Name: DiffWalking, dtype: int64 \n",
      "\n",
      "column Sex\n",
      "***********************************\n",
      "Female    159671\n",
      "Male      142046\n",
      "Name: Sex, dtype: int64 \n",
      "\n",
      "column AgeCategory\n",
      "***********************************\n",
      "65-69          31670\n",
      "60-64          31219\n",
      "70-74          29273\n",
      "55-59          27610\n",
      "50-54          23736\n",
      "80 or older    23352\n",
      "75-79          20713\n",
      "45-49          20518\n",
      "18-24          19998\n",
      "40-44          19837\n",
      "35-39          19526\n",
      "30-34          17953\n",
      "25-29          16312\n",
      "Name: AgeCategory, dtype: int64 \n",
      "\n",
      "column Race\n",
      "***********************************\n",
      "White                             227724\n",
      "Hispanic                           27107\n",
      "Black                              22810\n",
      "Other                              10891\n",
      "Asian                               7993\n",
      "American Indian/Alaskan Native      5192\n",
      "Name: Race, dtype: int64 \n",
      "\n",
      "column Diabetic\n",
      "***********************************\n",
      "No                         251796\n",
      "Yes                         40589\n",
      "No, borderline diabetes      6776\n",
      "Yes (during pregnancy)       2556\n",
      "Name: Diabetic, dtype: int64 \n",
      "\n",
      "column PhysicalActivity\n",
      "***********************************\n",
      "Yes    230412\n",
      "No      71305\n",
      "Name: PhysicalActivity, dtype: int64 \n",
      "\n",
      "column GenHealth\n",
      "***********************************\n",
      "Very good    104796\n",
      "Good          91239\n",
      "Excellent     59737\n",
      "Fair          34659\n",
      "Poor          11286\n",
      "Name: GenHealth, dtype: int64 \n",
      "\n",
      "column SleepTime\n",
      "***********************************\n",
      "8.0     90202\n",
      "7.0     89445\n",
      "6.0     64655\n",
      "5.0     19101\n",
      "9.0     15853\n",
      "10.0     7782\n",
      "4.0      7730\n",
      "12.0     2204\n",
      "3.0      1992\n",
      "2.0       788\n",
      "1.0       551\n",
      "11.0      415\n",
      "14.0      243\n",
      "16.0      236\n",
      "15.0      189\n",
      "18.0      102\n",
      "13.0       97\n",
      "20.0       64\n",
      "24.0       30\n",
      "17.0       21\n",
      "22.0        9\n",
      "19.0        3\n",
      "23.0        3\n",
      "21.0        2\n",
      "Name: SleepTime, dtype: int64 \n",
      "\n",
      "column Asthma\n",
      "***********************************\n",
      "No     259066\n",
      "Yes     42651\n",
      "Name: Asthma, dtype: int64 \n",
      "\n",
      "column KidneyDisease\n",
      "***********************************\n",
      "No     289941\n",
      "Yes     11776\n",
      "Name: KidneyDisease, dtype: int64 \n",
      "\n",
      "column SkinCancer\n",
      "***********************************\n",
      "No     272425\n",
      "Yes     29292\n",
      "Name: SkinCancer, dtype: int64 \n",
      "\n"
     ]
    }
   ],
   "source": [
    "#look at each column values \n",
    "for col in df.columns:\n",
    "    print(f'column {col}')\n",
    "    print('***********************************')\n",
    "    print(df[col].value_counts(),'\\n')\n",
    "\n",
    "# We Find that we have 4cloumns have numeric values [BMI,PhysicalHealth,MentalHealth,SleepTime]\n",
    "#and the another column have text value we will convet them into numeric values"
   ]
  },
  {
   "cell_type": "code",
   "execution_count": 43,
   "id": "20fbb543",
   "metadata": {},
   "outputs": [
    {
     "data": {
      "text/html": [
       "<div>\n",
       "<style scoped>\n",
       "    .dataframe tbody tr th:only-of-type {\n",
       "        vertical-align: middle;\n",
       "    }\n",
       "\n",
       "    .dataframe tbody tr th {\n",
       "        vertical-align: top;\n",
       "    }\n",
       "\n",
       "    .dataframe thead th {\n",
       "        text-align: right;\n",
       "    }\n",
       "</style>\n",
       "<table border=\"1\" class=\"dataframe\">\n",
       "  <thead>\n",
       "    <tr style=\"text-align: right;\">\n",
       "      <th></th>\n",
       "      <th>BMI</th>\n",
       "      <th>PhysicalHealth</th>\n",
       "      <th>MentalHealth</th>\n",
       "      <th>SleepTime</th>\n",
       "    </tr>\n",
       "  </thead>\n",
       "  <tbody>\n",
       "    <tr>\n",
       "      <th>count</th>\n",
       "      <td>301717.000000</td>\n",
       "      <td>301717.000000</td>\n",
       "      <td>301717.000000</td>\n",
       "      <td>301717.000000</td>\n",
       "    </tr>\n",
       "    <tr>\n",
       "      <th>mean</th>\n",
       "      <td>28.441970</td>\n",
       "      <td>3.572298</td>\n",
       "      <td>4.121475</td>\n",
       "      <td>7.084559</td>\n",
       "    </tr>\n",
       "    <tr>\n",
       "      <th>std</th>\n",
       "      <td>6.468134</td>\n",
       "      <td>8.140656</td>\n",
       "      <td>8.128288</td>\n",
       "      <td>1.467122</td>\n",
       "    </tr>\n",
       "    <tr>\n",
       "      <th>min</th>\n",
       "      <td>12.020000</td>\n",
       "      <td>0.000000</td>\n",
       "      <td>0.000000</td>\n",
       "      <td>1.000000</td>\n",
       "    </tr>\n",
       "    <tr>\n",
       "      <th>25%</th>\n",
       "      <td>24.030000</td>\n",
       "      <td>0.000000</td>\n",
       "      <td>0.000000</td>\n",
       "      <td>6.000000</td>\n",
       "    </tr>\n",
       "    <tr>\n",
       "      <th>50%</th>\n",
       "      <td>27.410000</td>\n",
       "      <td>0.000000</td>\n",
       "      <td>0.000000</td>\n",
       "      <td>7.000000</td>\n",
       "    </tr>\n",
       "    <tr>\n",
       "      <th>75%</th>\n",
       "      <td>31.650000</td>\n",
       "      <td>2.000000</td>\n",
       "      <td>4.000000</td>\n",
       "      <td>8.000000</td>\n",
       "    </tr>\n",
       "    <tr>\n",
       "      <th>max</th>\n",
       "      <td>94.850000</td>\n",
       "      <td>30.000000</td>\n",
       "      <td>30.000000</td>\n",
       "      <td>24.000000</td>\n",
       "    </tr>\n",
       "  </tbody>\n",
       "</table>\n",
       "</div>"
      ],
      "text/plain": [
       "                 BMI  PhysicalHealth   MentalHealth      SleepTime\n",
       "count  301717.000000   301717.000000  301717.000000  301717.000000\n",
       "mean       28.441970        3.572298       4.121475       7.084559\n",
       "std         6.468134        8.140656       8.128288       1.467122\n",
       "min        12.020000        0.000000       0.000000       1.000000\n",
       "25%        24.030000        0.000000       0.000000       6.000000\n",
       "50%        27.410000        0.000000       0.000000       7.000000\n",
       "75%        31.650000        2.000000       4.000000       8.000000\n",
       "max        94.850000       30.000000      30.000000      24.000000"
      ]
     },
     "execution_count": 43,
     "metadata": {},
     "output_type": "execute_result"
    }
   ],
   "source": [
    "#5 number summary of numerical columns\n",
    "df.describe() "
   ]
  },
  {
   "cell_type": "code",
   "execution_count": 44,
   "id": "93ba0bac",
   "metadata": {},
   "outputs": [
    {
     "data": {
      "text/plain": [
       "count    301717.000000\n",
       "mean          3.572298\n",
       "std           8.140656\n",
       "min           0.000000\n",
       "25%           0.000000\n",
       "50%           0.000000\n",
       "75%           2.000000\n",
       "max          30.000000\n",
       "Name: PhysicalHealth, dtype: float64"
      ]
     },
     "execution_count": 44,
     "metadata": {},
     "output_type": "execute_result"
    }
   ],
   "source": [
    "# check outliers in PhysicalHealth\n",
    "df[\"PhysicalHealth\"].describe()"
   ]
  },
  {
   "cell_type": "code",
   "execution_count": 45,
   "id": "c5f8ccaa",
   "metadata": {},
   "outputs": [],
   "source": [
    "# drow boxplot of PhysicalHealth\n",
    "def boxplot_drawer(Column_Name):\n",
    "    sns.boxplot(y=Column_Name,data=df)\n",
    "\n",
    "#we find outliers we shoud remove it we should remove values which out of upper limit and lower limit \n",
    "#lower limit < data <upper limit "
   ]
  },
  {
   "cell_type": "code",
   "execution_count": 46,
   "id": "88313ab3",
   "metadata": {},
   "outputs": [
    {
     "data": {
      "image/png": "[encoded data removed]",
      "text/plain": [
       "<Figure size 432x288 with 1 Axes>"
      ]
     },
     "metadata": {
      "needs_background": "light"
     },
     "output_type": "display_data"
    }
   ],
   "source": [
    "#draw box plot PhysicalHealth column\n",
    "boxplot_drawer(\"PhysicalHealth\")"
   ]
  },
  {
   "cell_type": "code",
   "execution_count": 47,
   "id": "8b54cc4e",
   "metadata": {},
   "outputs": [],
   "source": [
    "# Remove outliers\n",
    "def Remove_outliers(Column_Name):\n",
    "    q1=df[Column_Name].quantile(0.25)\n",
    "    q3=df[Column_Name].quantile(0.75)\n",
    "    iqr=q3-q1\n",
    "    df[Column_Name][(df[Column_Name]<(q1-1.5*iqr))|(df[Column_Name]>(q3+1.5*iqr))]=np.nan"
   ]
  },
  {
   "cell_type": "code",
   "execution_count": 48,
   "id": "5f60dd99",
   "metadata": {},
   "outputs": [
    {
     "name": "stderr",
     "output_type": "stream",
     "text": [
      "C:\\Users\\ALNOUR\\AppData\\Local\\Temp\\ipykernel_19224\\3852530155.py:6: SettingWithCopyWarning: \n",
      "A value is trying to be set on a copy of a slice from a DataFrame\n",
      "\n",
      "See the caveats in the documentation: https://pandas.pydata.org/pandas-docs/stable/user_guide/indexing.html#returning-a-view-versus-a-copy\n",
      "  df[Column_Name][(df[Column_Name]<(q1-1.5*iqr))|(df[Column_Name]>(q3+1.5*iqr))]=np.nan\n"
     ]
    }
   ],
   "source": [
    "#remove outliers in  PhysicalHealth column\n",
    "Remove_outliers(\"PhysicalHealth\")"
   ]
  },
  {
   "cell_type": "code",
   "execution_count": 64,
   "id": "7b17ee6f",
   "metadata": {},
   "outputs": [
    {
     "data": {
      "text/plain": [
       "HeartDisease            0\n",
       "BMI                     0\n",
       "Smoking                 0\n",
       "AlcoholDrinking         0\n",
       "Stroke                  0\n",
       "PhysicalHealth      47136\n",
       "MentalHealth            0\n",
       "DiffWalking             0\n",
       "Sex                     0\n",
       "AgeCategory             0\n",
       "Race                    0\n",
       "Diabetic                0\n",
       "PhysicalActivity        0\n",
       "GenHealth               0\n",
       "SleepTime               0\n",
       "Asthma                  0\n",
       "KidneyDisease           0\n",
       "SkinCancer              0\n",
       "dtype: int64"
      ]
     },
     "execution_count": 64,
     "metadata": {},
     "output_type": "execute_result"
    }
   ],
   "source": [
    "df.isnull().sum()"
   ]
  },
  {
   "cell_type": "code",
   "execution_count": 70,
   "id": "af333cc6",
   "metadata": {},
   "outputs": [],
   "source": [
    "df.dropna(inplace=True)"
   ]
  },
  {
   "cell_type": "code",
   "execution_count": 72,
   "id": "49889a0b",
   "metadata": {},
   "outputs": [],
   "source": [
    "#boxplot_drawer(\"PhysicalHealth\")"
   ]
  },
  {
   "cell_type": "code",
   "execution_count": 69,
   "id": "65388ee2",
   "metadata": {},
   "outputs": [
    {
     "data": {
      "text/plain": [
       "count    254581.000000\n",
       "mean          0.478406\n",
       "std           1.172977\n",
       "min           0.000000\n",
       "25%           0.000000\n",
       "50%           0.000000\n",
       "75%           0.000000\n",
       "max           5.000000\n",
       "Name: PhysicalHealth, dtype: float64"
      ]
     },
     "execution_count": 69,
     "metadata": {},
     "output_type": "execute_result"
    }
   ],
   "source": [
    "# PhysicalHealth after remove outliers\n",
    "df[\"PhysicalHealth\"].describe()"
   ]
  },
  {
   "cell_type": "code",
   "execution_count": 73,
   "id": "3c9a8f0e",
   "metadata": {},
   "outputs": [
    {
     "data": {
      "text/plain": [
       "count    254581.000000\n",
       "mean          3.206480\n",
       "std           6.986797\n",
       "min           0.000000\n",
       "25%           0.000000\n",
       "50%           0.000000\n",
       "75%           3.000000\n",
       "max          30.000000\n",
       "Name: MentalHealth, dtype: float64"
      ]
     },
     "execution_count": 73,
     "metadata": {},
     "output_type": "execute_result"
    }
   ],
   "source": [
    "#chech outliesrs in MentalHealth column\n",
    "df[\"MentalHealth\"].describe()"
   ]
  },
  {
   "cell_type": "code",
   "execution_count": 74,
   "id": "97a74765",
   "metadata": {},
   "outputs": [
    {
     "data": {
      "image/png": "[encoded data removed]",
      "text/plain": [
       "<Figure size 432x288 with 1 Axes>"
      ]
     },
     "metadata": {
      "needs_background": "light"
     },
     "output_type": "display_data"
    }
   ],
   "source": [
    "#draw boxplot of \"MentalHealth\" column \n",
    "boxplot_drawer(\"MentalHealth\")"
   ]
  },
  {
   "cell_type": "code",
   "execution_count": 75,
   "id": "e1d63057",
   "metadata": {},
   "outputs": [
    {
     "name": "stderr",
     "output_type": "stream",
     "text": [
      "C:\\Users\\ALNOUR\\AppData\\Local\\Temp\\ipykernel_19224\\3852530155.py:6: SettingWithCopyWarning: \n",
      "A value is trying to be set on a copy of a slice from a DataFrame\n",
      "\n",
      "See the caveats in the documentation: https://pandas.pydata.org/pandas-docs/stable/user_guide/indexing.html#returning-a-view-versus-a-copy\n",
      "  df[Column_Name][(df[Column_Name]<(q1-1.5*iqr))|(df[Column_Name]>(q3+1.5*iqr))]=np.nan\n"
     ]
    }
   ],
   "source": [
    "#remove outliers which in \"MentalHealth\"  \n",
    "Remove_outliers(\"MentalHealth\")"
   ]
  },
  {
   "cell_type": "code",
   "execution_count": 77,
   "id": "0d513b11",
   "metadata": {},
   "outputs": [],
   "source": [
    "df.dropna(inplace=True)"
   ]
  },
  {
   "cell_type": "code",
   "execution_count": 76,
   "id": "2637079f",
   "metadata": {},
   "outputs": [
    {
     "data": {
      "text/plain": [
       "count    221061.000000\n",
       "mean          0.815784\n",
       "std           1.692634\n",
       "min           0.000000\n",
       "25%           0.000000\n",
       "50%           0.000000\n",
       "75%           0.000000\n",
       "max           7.000000\n",
       "Name: MentalHealth, dtype: float64"
      ]
     },
     "execution_count": 76,
     "metadata": {},
     "output_type": "execute_result"
    }
   ],
   "source": [
    "#  MentalHealth after remove outliers\n",
    "df[\"MentalHealth\"].describe()"
   ]
  },
  {
   "cell_type": "code",
   "execution_count": 78,
   "id": "c18d8146",
   "metadata": {},
   "outputs": [
    {
     "data": {
      "text/html": [
       "<div>\n",
       "<style scoped>\n",
       "    .dataframe tbody tr th:only-of-type {\n",
       "        vertical-align: middle;\n",
       "    }\n",
       "\n",
       "    .dataframe tbody tr th {\n",
       "        vertical-align: top;\n",
       "    }\n",
       "\n",
       "    .dataframe thead th {\n",
       "        text-align: right;\n",
       "    }\n",
       "</style>\n",
       "<table border=\"1\" class=\"dataframe\">\n",
       "  <thead>\n",
       "    <tr style=\"text-align: right;\">\n",
       "      <th></th>\n",
       "      <th>HeartDisease</th>\n",
       "      <th>Smoking</th>\n",
       "      <th>AlcoholDrinking</th>\n",
       "      <th>Stroke</th>\n",
       "      <th>DiffWalking</th>\n",
       "      <th>Sex</th>\n",
       "      <th>AgeCategory</th>\n",
       "      <th>Race</th>\n",
       "      <th>Diabetic</th>\n",
       "      <th>PhysicalActivity</th>\n",
       "      <th>GenHealth</th>\n",
       "      <th>Asthma</th>\n",
       "      <th>KidneyDisease</th>\n",
       "      <th>SkinCancer</th>\n",
       "    </tr>\n",
       "  </thead>\n",
       "  <tbody>\n",
       "    <tr>\n",
       "      <th>count</th>\n",
       "      <td>221061</td>\n",
       "      <td>221061</td>\n",
       "      <td>221061</td>\n",
       "      <td>221061</td>\n",
       "      <td>221061</td>\n",
       "      <td>221061</td>\n",
       "      <td>221061</td>\n",
       "      <td>221061</td>\n",
       "      <td>221061</td>\n",
       "      <td>221061</td>\n",
       "      <td>221061</td>\n",
       "      <td>221061</td>\n",
       "      <td>221061</td>\n",
       "      <td>221061</td>\n",
       "    </tr>\n",
       "    <tr>\n",
       "      <th>unique</th>\n",
       "      <td>2</td>\n",
       "      <td>2</td>\n",
       "      <td>2</td>\n",
       "      <td>2</td>\n",
       "      <td>2</td>\n",
       "      <td>2</td>\n",
       "      <td>13</td>\n",
       "      <td>6</td>\n",
       "      <td>4</td>\n",
       "      <td>2</td>\n",
       "      <td>5</td>\n",
       "      <td>2</td>\n",
       "      <td>2</td>\n",
       "      <td>2</td>\n",
       "    </tr>\n",
       "    <tr>\n",
       "      <th>top</th>\n",
       "      <td>No</td>\n",
       "      <td>No</td>\n",
       "      <td>No</td>\n",
       "      <td>No</td>\n",
       "      <td>No</td>\n",
       "      <td>Female</td>\n",
       "      <td>65-69</td>\n",
       "      <td>White</td>\n",
       "      <td>No</td>\n",
       "      <td>Yes</td>\n",
       "      <td>Very good</td>\n",
       "      <td>No</td>\n",
       "      <td>No</td>\n",
       "      <td>No</td>\n",
       "    </tr>\n",
       "    <tr>\n",
       "      <th>freq</th>\n",
       "      <td>204563</td>\n",
       "      <td>134183</td>\n",
       "      <td>205941</td>\n",
       "      <td>214433</td>\n",
       "      <td>201762</td>\n",
       "      <td>111160</td>\n",
       "      <td>23895</td>\n",
       "      <td>166880</td>\n",
       "      <td>188480</td>\n",
       "      <td>177356</td>\n",
       "      <td>86174</td>\n",
       "      <td>195401</td>\n",
       "      <td>214634</td>\n",
       "      <td>199316</td>\n",
       "    </tr>\n",
       "  </tbody>\n",
       "</table>\n",
       "</div>"
      ],
      "text/plain": [
       "       HeartDisease Smoking AlcoholDrinking  Stroke DiffWalking     Sex  \\\n",
       "count        221061  221061          221061  221061      221061  221061   \n",
       "unique            2       2               2       2           2       2   \n",
       "top              No      No              No      No          No  Female   \n",
       "freq         204563  134183          205941  214433      201762  111160   \n",
       "\n",
       "       AgeCategory    Race Diabetic PhysicalActivity  GenHealth  Asthma  \\\n",
       "count       221061  221061   221061           221061     221061  221061   \n",
       "unique          13       6        4                2          5       2   \n",
       "top          65-69   White       No              Yes  Very good      No   \n",
       "freq         23895  166880   188480           177356      86174  195401   \n",
       "\n",
       "       KidneyDisease SkinCancer  \n",
       "count         221061     221061  \n",
       "unique             2          2  \n",
       "top               No         No  \n",
       "freq          214634     199316  "
      ]
     },
     "execution_count": 78,
     "metadata": {},
     "output_type": "execute_result"
    }
   ],
   "source": [
    "# describe text value\n",
    "df.describe(include=['O'])"
   ]
  },
  {
   "cell_type": "code",
   "execution_count": 79,
   "id": "33256e04",
   "metadata": {},
   "outputs": [
    {
     "data": {
      "text/plain": [
       "array(['No', 'Yes', 'No, borderline diabetes', 'Yes (during pregnancy)'],\n",
       "      dtype=object)"
      ]
     },
     "execution_count": 79,
     "metadata": {},
     "output_type": "execute_result"
    }
   ],
   "source": [
    "#we find that diabitic column have 4 categories we will convert it  \n",
    "df[\"Diabetic\"].unique()"
   ]
  },
  {
   "cell_type": "code",
   "execution_count": 80,
   "id": "e6fc8a0f",
   "metadata": {},
   "outputs": [
    {
     "data": {
      "text/plain": [
       "count     221061\n",
       "unique         2\n",
       "top           No\n",
       "freq      204563\n",
       "Name: HeartDisease, dtype: object"
      ]
     },
     "execution_count": 80,
     "metadata": {},
     "output_type": "execute_result"
    }
   ],
   "source": [
    "#describe \"HeartDisease\" 2 classes yes or no the num of No > yes \n",
    "df[\"HeartDisease\"].describe()\n"
   ]
  },
  {
   "cell_type": "code",
   "execution_count": 81,
   "id": "99bd2355",
   "metadata": {},
   "outputs": [
    {
     "data": {
      "text/plain": [
       "1         0\n",
       "3         0\n",
       "7         0\n",
       "8         0\n",
       "9         0\n",
       "         ..\n",
       "319789    0\n",
       "319791    0\n",
       "319792    0\n",
       "319793    0\n",
       "319794    0\n",
       "Name: HeartDisease, Length: 221061, dtype: int32"
      ]
     },
     "execution_count": 81,
     "metadata": {},
     "output_type": "execute_result"
    }
   ],
   "source": [
    "#convert data type of Heartdisease\n",
    "df.loc[df.HeartDisease==\"Yes\",\"HeartDisease\"]=1\n",
    "df.loc[df.HeartDisease==\"No\",\"HeartDisease\"]=0\n",
    "df[\"HeartDisease\"]=df[\"HeartDisease\"].astype(\"int32\")\n",
    "df[\"HeartDisease\"]"
   ]
  },
  {
   "cell_type": "code",
   "execution_count": 82,
   "id": "def0758c",
   "metadata": {},
   "outputs": [
    {
     "data": {
      "text/plain": [
       "0    204563\n",
       "1     16498\n",
       "Name: HeartDisease, dtype: int64"
      ]
     },
     "execution_count": 82,
     "metadata": {},
     "output_type": "execute_result"
    }
   ],
   "source": [
    "#nuber of people who had Heartdisease and have not \n",
    "df[\"HeartDisease\"].value_counts()"
   ]
  },
  {
   "cell_type": "code",
   "execution_count": 88,
   "id": "9b57fae9",
   "metadata": {},
   "outputs": [],
   "source": [
    "#replace remaining columns data type by this way \n",
    "df =  df[df.columns].replace({'Yes':1, 'No':0,'No, borderline diabetes':0,'Yes (during pregnancy)':1})"
   ]
  },
  {
   "cell_type": "code",
   "execution_count": 89,
   "id": "f765e7f7",
   "metadata": {},
   "outputs": [
    {
     "data": {
      "text/plain": [
       "White                             166880\n",
       "Hispanic                           19957\n",
       "Black                              16544\n",
       "Other                               7470\n",
       "Asian                               6713\n",
       "American Indian/Alaskan Native      3497\n",
       "Name: Race, dtype: int64"
      ]
     },
     "execution_count": 89,
     "metadata": {},
     "output_type": "execute_result"
    }
   ],
   "source": [
    "#df[\"Race\"].value_counts()"
   ]
  },
  {
   "cell_type": "markdown",
   "id": "4c87a8d9",
   "metadata": {},
   "source": [
    "### Exploring & Analysis  Data "
   ]
  },
  {
   "cell_type": "code",
   "execution_count": 90,
   "id": "a9cbb243",
   "metadata": {},
   "outputs": [
    {
     "data": {
      "image/png": "[encoded data removed]",
      "text/plain": [
       "<Figure size 1440x1080 with 16 Axes>"
      ]
     },
     "metadata": {
      "needs_background": "light"
     },
     "output_type": "display_data"
    }
   ],
   "source": [
    "#plot describe data histogram of each column   \n",
    "df.hist(figsize=(20,15))\n",
    "plt.show()"
   ]
  },
  {
   "cell_type": "code",
   "execution_count": 91,
   "id": "25fe976e",
   "metadata": {},
   "outputs": [],
   "source": [
    "#correlation betwwen coulmns \n",
    "cor =df.corr()"
   ]
  },
  {
   "cell_type": "code",
   "execution_count": 92,
   "id": "5faab1a2",
   "metadata": {},
   "outputs": [
    {
     "data": {
      "text/plain": [
       "<AxesSubplot:>"
      ]
     },
     "execution_count": 92,
     "metadata": {},
     "output_type": "execute_result"
    },
    {
     "data": {
      "image/png": "[encoded data removed]",
      "text/plain": [
       "<Figure size 1008x504 with 2 Axes>"
      ]
     },
     "metadata": {
      "needs_background": "light"
     },
     "output_type": "display_data"
    }
   ],
   "source": [
    "#show it in heatmap\n",
    "plt.figure(figsize = (14,7))\n",
    "sns.heatmap(cor.rank(axis=\"columns\"),annot=True) # fix size of fig"
   ]
  },
  {
   "cell_type": "markdown",
   "id": "418082f9",
   "metadata": {},
   "source": [
    "### Visulization Class"
   ]
  },
  {
   "cell_type": "code",
   "execution_count": 93,
   "id": "2d98adae",
   "metadata": {},
   "outputs": [],
   "source": [
    "class Visulization():\n",
    "    # function to return  distribution of cases yes or no heartdisease  according do another column\n",
    "    def distribution(column1_name,column2_name,class_label):\n",
    "        #num of female and male have-------------------Heartdisese\n",
    "        Have_DeartDisease_column2_name=pd.DataFrame(df[df[column1_name]==class_label][column2_name])\n",
    "        print(Have_DeartDisease_column2_name.value_counts())\n",
    "        Have_DeartDisease_column2_name.hist(figsize=(20,15))\n",
    "        return plt.show()\n",
    "\n",
    "\n",
    "\n",
    "    #suplot_Histoggramfunction\n",
    "    def Subplot_Histogram(column1_name,column2_name):\n",
    "        fig, ax = plt.subplots(figsize = (13,6))\n",
    "\n",
    "        ax.hist(df[df[column1_name]==1][column2_name], bins=20,alpha=1 ,color=\"green\", label=\"HeartDisease\")\n",
    "        ax.hist(df[df[column1_name]==0][column2_name], bins=20,alpha=.5 ,color=\"yellow\", label=\"Normal\")\n",
    "\n",
    "        ax.set_xlabel(column2_name)\n",
    "        ax.set_ylabel(\"Frequency\")\n",
    "\n",
    "        fig.suptitle(f\"Distribution of Cases with Yes/No heartdisease according to {column2_name} \")\n",
    "\n",
    "        ax.legend()\n",
    "        \n",
    "\n",
    "    #count_plotfunction\n",
    "    def count_plot(column_name1,column_name2):\n",
    "\n",
    "        plt.figure(figsize = (13,6))\n",
    "        sns.countplot(x = df[column_name2], hue =column_name1, data = df)\n",
    "        plt.xlabel(column_name2)\n",
    "        plt.legend(['Normal',column_name1])\n",
    "        plt.ylabel('Frequency')\n",
    "        plt.show()\n",
    "\n"
   ]
  },
  {
   "cell_type": "markdown",
   "id": "4c06d4f8",
   "metadata": {},
   "source": [
    "### 1 According to Sex Have a HeartDisease"
   ]
  },
  {
   "cell_type": "code",
   "execution_count": 94,
   "id": "52c47f97",
   "metadata": {},
   "outputs": [
    {
     "name": "stdout",
     "output_type": "stream",
     "text": [
      "Sex\n",
      "1      10612\n",
      "0       5886\n",
      "dtype: int64\n"
     ]
    },
    {
     "data": {
      "image/png": "[encoded data removed]",
      "text/plain": [
       "<Figure size 1440x1080 with 1 Axes>"
      ]
     },
     "metadata": {
      "needs_background": "light"
     },
     "output_type": "display_data"
    }
   ],
   "source": [
    "Visulization.distribution(\"HeartDisease\",\"Sex\",1)\n",
    "# num of Male whoes have heartdisease > num of female"
   ]
  },
  {
   "cell_type": "markdown",
   "id": "369398cc",
   "metadata": {},
   "source": [
    "### 2 According to Sex Not Have HeartDisease"
   ]
  },
  {
   "cell_type": "code",
   "execution_count": null,
   "id": "c69fef66",
   "metadata": {},
   "outputs": [],
   "source": [
    "Visulization.distribution(\"HeartDisease\",\"Sex\",0)\n",
    "# num of Male whoes Not have heartdisease < num of female"
   ]
  },
  {
   "cell_type": "code",
   "execution_count": 98,
   "id": "a81276cf",
   "metadata": {},
   "outputs": [
    {
     "data": {
      "image/png": "[encoded data removed]",
      "text/plain": [
       "<Figure size 936x432 with 1 Axes>"
      ]
     },
     "metadata": {
      "needs_background": "light"
     },
     "output_type": "display_data"
    }
   ],
   "source": [
    "Visulization.Subplot_Histogram(\"HeartDisease\",\"Sex\")"
   ]
  },
  {
   "cell_type": "markdown",
   "id": "89f9794e",
   "metadata": {},
   "source": [
    "### 3 According to Smoking ====> Have HeartDisease"
   ]
  },
  {
   "cell_type": "code",
   "execution_count": null,
   "id": "b81755de",
   "metadata": {},
   "outputs": [],
   "source": [
    "#find num of people who have Heartdisease according to he smoke or not 1 refer to have heartdisease\n",
    "Visulization.distribution(\"HeartDisease\",\"Smoking\",1)\n",
    "#we find that the num of  people who smoking and have aheartdisease largerthan whose not smooking \n"
   ]
  },
  {
   "cell_type": "markdown",
   "id": "c6f12d31",
   "metadata": {},
   "source": [
    "### 4 According to Smoking ====>Not  Have HeartDisease"
   ]
  },
  {
   "cell_type": "code",
   "execution_count": null,
   "id": "7143ff7a",
   "metadata": {},
   "outputs": [],
   "source": [
    "#find num of people who have not Heartdisease according to he smoke or not 0 refer to not have heartdisease\n",
    "Visulization.distribution(\"HeartDisease\",\"Smoking\",0)\n",
    "#we find that the num of people whose not smoking and not have a heartdisease larger than whose smoking"
   ]
  },
  {
   "cell_type": "code",
   "execution_count": null,
   "id": "03f9b632",
   "metadata": {},
   "outputs": [],
   "source": [
    "Visulization.Subplot_Histogram(\"HeartDisease\",\"Smoking\")"
   ]
  },
  {
   "cell_type": "markdown",
   "id": "2f5882a8",
   "metadata": {},
   "source": [
    "###  5 According to  drink (alchol or not)  Have a HeartDisease"
   ]
  },
  {
   "cell_type": "code",
   "execution_count": null,
   "id": "096c4678",
   "metadata": {},
   "outputs": [],
   "source": [
    "#we want to fin num of people who had aheart disese acoording to drink or not alchol \n",
    "Visulization.distribution(\"HeartDisease\",\"AlcoholDrinking\",1)\n",
    "\n",
    "#we find that num of people who had heartdisease and not drink alchol > whose drink \n"
   ]
  },
  {
   "cell_type": "markdown",
   "id": "d664bca4",
   "metadata": {},
   "source": [
    "### 6 According to  drink (alchol or not)  Not Have a HeartDisease"
   ]
  },
  {
   "cell_type": "code",
   "execution_count": null,
   "id": "210ffcc1",
   "metadata": {},
   "outputs": [],
   "source": [
    "# we want to find num of  people whose hadnot aheart disease according to drink alchol \n",
    "Visulization.distribution(\"HeartDisease\",\"AlcoholDrinking\",0)\n",
    "# we find that num of not dink and not have a heatdisease > drinking and not have "
   ]
  },
  {
   "cell_type": "code",
   "execution_count": null,
   "id": "ac2f9f60",
   "metadata": {},
   "outputs": [],
   "source": [
    "Visulization.Subplot_Histogram(\"HeartDisease\",\"AlcoholDrinking\")"
   ]
  },
  {
   "cell_type": "markdown",
   "id": "0b981be2",
   "metadata": {},
   "source": [
    "### 7 According to stroke  Have a HeartDisease"
   ]
  },
  {
   "cell_type": "code",
   "execution_count": null,
   "id": "7f67ec96",
   "metadata": {},
   "outputs": [],
   "source": [
    "Visulization.distribution(\"HeartDisease\",\"Stroke\",1)\n",
    "# number of people whoese not had stroke and have HeartDisease >num of people whoese had stroke and HeartDisease"
   ]
  },
  {
   "cell_type": "markdown",
   "id": "dc442b3d",
   "metadata": {},
   "source": [
    "### 8  According to stroke  not Have a HeartDisease"
   ]
  },
  {
   "cell_type": "code",
   "execution_count": null,
   "id": "42abf730",
   "metadata": {},
   "outputs": [],
   "source": [
    "Visulization.distribution(\"HeartDisease\",\"Stroke\",0)\n",
    "# اكتشفنا ان عدد الناس ال مجلهاش سكتات قلبيه قبل كدا عدد عدم اصابتهم ب مرض القلب اكتر من عدد الناس ال اتعرضوا لسكاتات دماغيه "
   ]
  },
  {
   "cell_type": "code",
   "execution_count": null,
   "id": "30da9cc9",
   "metadata": {},
   "outputs": [],
   "source": [
    "Visulization.Subplot_Histogram(\"HeartDisease\",\"Stroke\")"
   ]
  },
  {
   "cell_type": "markdown",
   "id": "77faffe3",
   "metadata": {},
   "source": [
    "### 9  According to DiffWalking  Have a HeartDisease"
   ]
  },
  {
   "cell_type": "code",
   "execution_count": null,
   "id": "f840ca9e",
   "metadata": {},
   "outputs": [],
   "source": [
    "Visulization.distribution(\"HeartDisease\",\"DiffWalking\",1)\n",
    "# اكتشفنا ان عدد الناس ال معنداش صعوبه فى المشي وعندها القلب اكثر من عدد الناس ال عندها مشاكل فى المشي \n"
   ]
  },
  {
   "cell_type": "code",
   "execution_count": null,
   "id": "f9c0d6ea",
   "metadata": {},
   "outputs": [],
   "source": [
    "Visulization.distribution(\"HeartDisease\",\"DiffWalking\",0)\n",
    "#هنا عدد الناش ال معندهاش مشاكل فى المشي ومعندهاش القلب اكثر من عدد  الناس ال عندها مشاكل فى المشي "
   ]
  },
  {
   "cell_type": "code",
   "execution_count": null,
   "id": "c427db7f",
   "metadata": {},
   "outputs": [],
   "source": [
    "Visulization.Subplot_Histogram(\"HeartDisease\",\"DiffWalking\")\n",
    "# هنلاحظ ان نسبة الناس ال بتعانى من مرض القلب اعلى فى حالة ان كنت انت بتعانى من مشاكل فى المشي"
   ]
  },
  {
   "cell_type": "markdown",
   "id": "fbc0f7d6",
   "metadata": {},
   "source": [
    " ### 10 According to Diabetic "
   ]
  },
  {
   "cell_type": "code",
   "execution_count": null,
   "id": "748408e2",
   "metadata": {},
   "outputs": [],
   "source": [
    "Visulization.distribution(\"HeartDisease\",\"Diabetic\",1)"
   ]
  },
  {
   "cell_type": "code",
   "execution_count": null,
   "id": "2029d89d",
   "metadata": {},
   "outputs": [],
   "source": [
    "Visulization.Subplot_Histogram(\"HeartDisease\",\"Diabetic\")\n",
    "# عدد الاشخاص ال غير مصابين ب السكرى ومصابين ب القلب اكثر من عدد الاشخاص المصابين ب السكرى "
   ]
  },
  {
   "cell_type": "markdown",
   "id": "c390fbd8",
   "metadata": {},
   "source": [
    "### 11 According to PhysicalActivity"
   ]
  },
  {
   "cell_type": "code",
   "execution_count": null,
   "id": "b1a28510",
   "metadata": {},
   "outputs": [],
   "source": [
    "Visulization.distribution(\"HeartDisease\",\"PhysicalActivity\",1)"
   ]
  },
  {
   "cell_type": "code",
   "execution_count": null,
   "id": "3878c452",
   "metadata": {},
   "outputs": [],
   "source": [
    "Visulization.Subplot_Histogram(\"HeartDisease\",\"PhysicalActivity\")"
   ]
  },
  {
   "cell_type": "markdown",
   "id": "379f4365",
   "metadata": {},
   "source": [
    "### 12 According to Asthma"
   ]
  },
  {
   "cell_type": "code",
   "execution_count": null,
   "id": "2675646d",
   "metadata": {},
   "outputs": [],
   "source": [
    "Visulization.distribution(\"HeartDisease\",\"Asthma\",1)"
   ]
  },
  {
   "cell_type": "code",
   "execution_count": null,
   "id": "0b84b009",
   "metadata": {},
   "outputs": [],
   "source": [
    "Visulization.Subplot_Histogram(\"HeartDisease\",\"Asthma\")"
   ]
  },
  {
   "cell_type": "markdown",
   "id": "1a41345a",
   "metadata": {},
   "source": [
    "### 13 According to KidneyDisease \t"
   ]
  },
  {
   "cell_type": "code",
   "execution_count": null,
   "id": "c99e6ad5",
   "metadata": {},
   "outputs": [],
   "source": [
    "Visulization.Subplot_Histogram(\"HeartDisease\",\"KidneyDisease\")"
   ]
  },
  {
   "cell_type": "markdown",
   "id": "78e5379d",
   "metadata": {},
   "source": [
    "### 14 According to Race"
   ]
  },
  {
   "cell_type": "code",
   "execution_count": 99,
   "id": "6613f263",
   "metadata": {},
   "outputs": [
    {
     "data": {
      "image/png": "[encoded data removed]",
      "text/plain": [
       "<Figure size 936x432 with 1 Axes>"
      ]
     },
     "metadata": {
      "needs_background": "light"
     },
     "output_type": "display_data"
    }
   ],
   "source": [
    "Visulization.Subplot_Histogram(\"HeartDisease\",\"Race\")\n",
    "# الاشخاص البيض هم اكثر فئه مصابه بمرض القلب "
   ]
  },
  {
   "cell_type": "code",
   "execution_count": 101,
   "id": "abb3e753",
   "metadata": {},
   "outputs": [
    {
     "data": {
      "image/png": "[encoded data removed]",
      "text/plain": [
       "<Figure size 936x432 with 1 Axes>"
      ]
     },
     "metadata": {
      "needs_background": "light"
     },
     "output_type": "display_data"
    }
   ],
   "source": [
    "Visulization.count_plot(\"HeartDisease\",\"Race\")"
   ]
  },
  {
   "cell_type": "markdown",
   "id": "6d2785bc",
   "metadata": {},
   "source": [
    "### 15 According to AgeCategory"
   ]
  },
  {
   "cell_type": "code",
   "execution_count": 102,
   "id": "c6a069e0",
   "metadata": {},
   "outputs": [],
   "source": [
    "encode_AgeCategory= {'55-59':57, '80 or older':80, '65-69':67,\n",
    "                      '75-79':77,'40-44':42,'70-74':72,'60-64':62,\n",
    "                      '50-54':52,'45-49':47,'18-24':21,'35-39':37,\n",
    "                      '30-34':32,'25-29':27}\n",
    "df['AgeCategory'] = df['AgeCategory'].apply(lambda x: encode_AgeCategory[x])\n",
    "df['AgeCategory'] = df['AgeCategory'].astype('float')"
   ]
  },
  {
   "cell_type": "code",
   "execution_count": null,
   "id": "281acc1e",
   "metadata": {},
   "outputs": [],
   "source": [
    "Visulization.Subplot_Histogram(\"HeartDisease\",\"AgeCategory\")"
   ]
  },
  {
   "cell_type": "code",
   "execution_count": 103,
   "id": "2f7ad20c",
   "metadata": {},
   "outputs": [
    {
     "data": {
      "image/png": "[encoded data removed]",
      "text/plain": [
       "<Figure size 936x432 with 1 Axes>"
      ]
     },
     "metadata": {
      "needs_background": "light"
     },
     "output_type": "display_data"
    }
   ],
   "source": [
    "Visulization.count_plot(\"HeartDisease\",\"AgeCategory\")"
   ]
  },
  {
   "cell_type": "markdown",
   "id": "84139827",
   "metadata": {},
   "source": [
    "### 15 According to GenHealth"
   ]
  },
  {
   "cell_type": "code",
   "execution_count": null,
   "id": "977d7295",
   "metadata": {},
   "outputs": [],
   "source": [
    "Visulization.Subplot_Histogram(\"HeartDisease\",\"GenHealth\")"
   ]
  },
  {
   "cell_type": "code",
   "execution_count": 105,
   "id": "98fe1579",
   "metadata": {},
   "outputs": [
    {
     "data": {
      "image/png": "[encoded data removed]",
      "text/plain": [
       "<Figure size 936x432 with 1 Axes>"
      ]
     },
     "metadata": {
      "needs_background": "light"
     },
     "output_type": "display_data"
    }
   ],
   "source": [
    "Visulization.count_plot(\"HeartDisease\",\"GenHealth\")"
   ]
  },
  {
   "cell_type": "markdown",
   "id": "7d211df7",
   "metadata": {},
   "source": [
    "### 16 According to Sleep Time"
   ]
  },
  {
   "cell_type": "code",
   "execution_count": 106,
   "id": "0076ad94",
   "metadata": {},
   "outputs": [
    {
     "data": {
      "image/png": "[encoded data removed]",
      "text/plain": [
       "<Figure size 936x432 with 1 Axes>"
      ]
     },
     "metadata": {
      "needs_background": "light"
     },
     "output_type": "display_data"
    }
   ],
   "source": [
    "Visulization.count_plot(\"HeartDisease\",\"SleepTime\")"
   ]
  },
  {
   "cell_type": "markdown",
   "id": "6c1522e5",
   "metadata": {},
   "source": [
    "### 17 According to BMI"
   ]
  },
  {
   "cell_type": "code",
   "execution_count": 113,
   "id": "f5015790",
   "metadata": {},
   "outputs": [
    {
     "data": {
      "image/png": "[encoded data removed]",
      "text/plain": [
       "<Figure size 936x360 with 1 Axes>"
      ]
     },
     "metadata": {
      "needs_background": "light"
     },
     "output_type": "display_data"
    }
   ],
   "source": [
    "fig, ax = plt.subplots(figsize = (13,5))\n",
    "sns.kdeplot(df[df[\"HeartDisease\"]==1][\"BMI\"], alpha=0.5,shade = True, color=\"red\", label=\"HeartDisease\", ax = ax)\n",
    "sns.kdeplot(df[df[\"HeartDisease\"]==0][\"BMI\"], alpha=0.5,shade = True, color=\"#fccc79\", label=\"Normal\", ax = ax)\n",
    "plt.title('Distribution of Body Mass Index', fontsize = 18)\n",
    "ax.set_xlabel(\"BodyMass\")\n",
    "ax.set_ylabel(\"Frequency\")\n",
    "ax.legend();\n",
    "plt.show()"
   ]
  },
  {
   "cell_type": "markdown",
   "id": "2fefe1d7",
   "metadata": {},
   "source": [
    "### According to PhysicalHealth"
   ]
  },
  {
   "cell_type": "code",
   "execution_count": 107,
   "id": "22eca623",
   "metadata": {},
   "outputs": [
    {
     "data": {
      "image/png": "[encoded data removed]",
      "text/plain": [
       "<Figure size 936x432 with 1 Axes>"
      ]
     },
     "metadata": {
      "needs_background": "light"
     },
     "output_type": "display_data"
    }
   ],
   "source": [
    "Visulization.count_plot(\"HeartDisease\",\"PhysicalHealth\")"
   ]
  },
  {
   "cell_type": "markdown",
   "id": "d3141334",
   "metadata": {},
   "source": [
    "### According to MentalHealth"
   ]
  },
  {
   "cell_type": "code",
   "execution_count": 109,
   "id": "9989e05a",
   "metadata": {},
   "outputs": [
    {
     "data": {
      "image/png": "[encoded data removed]",
      "text/plain": [
       "<Figure size 936x432 with 1 Axes>"
      ]
     },
     "metadata": {
      "needs_background": "light"
     },
     "output_type": "display_data"
    }
   ],
   "source": [
    "Visulization.count_plot(\"HeartDisease\",\"MentalHealth\")"
   ]
  },
  {
   "cell_type": "code",
   "execution_count": null,
   "id": "a6cfe797",
   "metadata": {},
   "outputs": [],
   "source": [
    "df.columns=[x.lower() for x in df.columns]"
   ]
  }
 ],
 "metadata": {
  "kernelspec": {
   "display_name": "Python 3 (ipykernel)",
   "language": "python",
   "name": "python3"
  },
  "language_info": {
   "codemirror_mode": {
    "name": "ipython",
    "version": 3
   },
   "file_extension": ".py",
   "mimetype": "text/x-python",
   "name": "python",
   "nbconvert_exporter": "python",
   "pygments_lexer": "ipython3",
   "version": "3.9.12"
  }
 },
 "nbformat": 4,
 "nbformat_minor": 5
}
